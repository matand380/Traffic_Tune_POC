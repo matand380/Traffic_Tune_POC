{
 "cells": [
  {
   "cell_type": "markdown",
   "id": "2476f7866dc519ab",
   "metadata": {
    "collapsed": false,
    "jp-MarkdownHeadingCollapsed": true
   },
   "source": [
    "# Setup and Installations"
   ]
  },
  {
   "cell_type": "code",
   "execution_count": null,
   "id": "1f178016f3ad91ec",
   "metadata": {
    "collapsed": false
   },
   "outputs": [],
   "source": [
    "import os\n",
    "import subprocess\n",
    "\n",
    "# Define the setup script path\n",
    "setup_script_path = 'setup_notebook.sh'\n",
    "\n",
    "# Run the setup script\n",
    "subprocess.call(['bash', setup_script_path])\n",
    "\n",
    "# Print environment setup confirmation\n",
    "print(\"Environment setup complete.\")\n"
   ]
  },
  {
   "cell_type": "code",
   "outputs": [],
   "source": [
    "import stable_baselines3\n",
    "import matplotlib\n",
    "import traci\n",
    "import sumo_rl\n",
    "import imageio\n",
    "import numpy as np\n",
    "import tensorboard\n",
    "import os\n",
    "import sys\n",
    "import gymnasium as gym\n",
    "from stable_baselines3.dqn.dqn import DQN\n",
    "import traci\n",
    "from sumo_rl import SumoEnvironment\n",
    "from datetime import datetime\n",
    "import pytz\n",
    "import matplotlib.pyplot as plt\n",
    "from stable_baselines3 import DQN\n",
    "import imageio.v2 as imageio\n",
    "from IPython.display import Video\n",
    "import pandas as pd"
   ],
   "metadata": {
    "collapsed": false
   },
   "id": "1dd2f124c075086e"
  },
  {
   "cell_type": "code",
   "execution_count": 105,
   "id": "initial_id",
   "metadata": {
    "ExecuteTime": {
     "end_time": "2024-06-10T18:50:32.237084Z",
     "start_time": "2024-06-10T18:50:32.233769Z"
    },
    "collapsed": true,
    "jupyter": {
     "outputs_hidden": true
    }
   },
   "outputs": [
    {
     "name": "stdout",
     "output_type": "stream",
     "text": [
      "SUMO_HOME: /opt/homebrew/opt/sumo/share/sumo\n"
     ]
    }
   ],
   "source": [
    "print(\"SUMO_HOME:\", os.environ.get(\"SUMO_HOME\"))"
   ]
  },
  {
   "cell_type": "code",
   "execution_count": 107,
   "id": "5621a90c19a4cc3a",
   "metadata": {
    "ExecuteTime": {
     "end_time": "2024-06-10T18:50:37.168278Z",
     "start_time": "2024-06-10T18:50:37.164708Z"
    },
    "collapsed": false
   },
   "outputs": [
    {
     "name": "stdout",
     "output_type": "stream",
     "text": [
      "Path to sumo-rl package: /Users/md/anaconda3/lib/python3.11/site-packages/sumo_rl\n",
      "/Users/md/anaconda3/lib/python3.11/site-packages/sumo_rl/.DS_Store\n",
      "/Users/md/anaconda3/lib/python3.11/site-packages/sumo_rl/__init__.py\n",
      "/Users/md/anaconda3/lib/python3.11/site-packages/sumo_rl/util/__init__.py\n",
      "/Users/md/anaconda3/lib/python3.11/site-packages/sumo_rl/util/gen_route.py\n",
      "/Users/md/anaconda3/lib/python3.11/site-packages/sumo_rl/util/__pycache__/gen_route.cpython-311.pyc\n",
      "/Users/md/anaconda3/lib/python3.11/site-packages/sumo_rl/util/__pycache__/__init__.cpython-311.pyc\n",
      "/Users/md/anaconda3/lib/python3.11/site-packages/sumo_rl/agents/ql_agent.py\n",
      "/Users/md/anaconda3/lib/python3.11/site-packages/sumo_rl/agents/__init__.py\n",
      "/Users/md/anaconda3/lib/python3.11/site-packages/sumo_rl/agents/__pycache__/ql_agent.cpython-311.pyc\n",
      "/Users/md/anaconda3/lib/python3.11/site-packages/sumo_rl/agents/__pycache__/__init__.cpython-311.pyc\n",
      "/Users/md/anaconda3/lib/python3.11/site-packages/sumo_rl/__pycache__/__init__.cpython-311.pyc\n",
      "/Users/md/anaconda3/lib/python3.11/site-packages/sumo_rl/exploration/__init__.py\n",
      "/Users/md/anaconda3/lib/python3.11/site-packages/sumo_rl/exploration/epsilon_greedy.py\n",
      "/Users/md/anaconda3/lib/python3.11/site-packages/sumo_rl/exploration/plot_epsilon.py\n",
      "/Users/md/anaconda3/lib/python3.11/site-packages/sumo_rl/exploration/__pycache__/plot_epsilon.cpython-311.pyc\n",
      "/Users/md/anaconda3/lib/python3.11/site-packages/sumo_rl/exploration/__pycache__/epsilon_greedy.cpython-311.pyc\n",
      "/Users/md/anaconda3/lib/python3.11/site-packages/sumo_rl/exploration/__pycache__/__init__.cpython-311.pyc\n",
      "/Users/md/anaconda3/lib/python3.11/site-packages/sumo_rl/nets/.DS_Store\n",
      "/Users/md/anaconda3/lib/python3.11/site-packages/sumo_rl/nets/__init__.py\n",
      "/Users/md/anaconda3/lib/python3.11/site-packages/sumo_rl/nets/single-intersection/single-intersection.edg.xml\n",
      "/Users/md/anaconda3/lib/python3.11/site-packages/sumo_rl/nets/single-intersection/single-intersection.nod.xml\n",
      "/Users/md/anaconda3/lib/python3.11/site-packages/sumo_rl/nets/single-intersection/single-intersection.rou.xml\n",
      "/Users/md/anaconda3/lib/python3.11/site-packages/sumo_rl/nets/single-intersection/single-intersection.sumocfg\n",
      "/Users/md/anaconda3/lib/python3.11/site-packages/sumo_rl/nets/single-intersection/single-intersection.net.xml\n",
      "/Users/md/anaconda3/lib/python3.11/site-packages/sumo_rl/nets/OW/OW-nowait.rou.xml\n",
      "/Users/md/anaconda3/lib/python3.11/site-packages/sumo_rl/nets/OW/OW-nowait-small.rou.xml\n",
      "/Users/md/anaconda3/lib/python3.11/site-packages/sumo_rl/nets/OW/OW.net.xml\n",
      "/Users/md/anaconda3/lib/python3.11/site-packages/sumo_rl/nets/OW/OW-traci.sumocfg\n",
      "/Users/md/anaconda3/lib/python3.11/site-packages/sumo_rl/nets/OW/OW-nowait-single.rou.xml\n",
      "/Users/md/anaconda3/lib/python3.11/site-packages/sumo_rl/nets/__pycache__/__init__.cpython-311.pyc\n",
      "/Users/md/anaconda3/lib/python3.11/site-packages/sumo_rl/nets/simple/simple-traci.sumocfg\n",
      "/Users/md/anaconda3/lib/python3.11/site-packages/sumo_rl/nets/simple/simple.edg.xml\n",
      "/Users/md/anaconda3/lib/python3.11/site-packages/sumo_rl/nets/simple/simple.typ.xml\n",
      "/Users/md/anaconda3/lib/python3.11/site-packages/sumo_rl/nets/simple/simple-empty.rou.xml\n",
      "/Users/md/anaconda3/lib/python3.11/site-packages/sumo_rl/nets/simple/simple.rou.xml\n",
      "/Users/md/anaconda3/lib/python3.11/site-packages/sumo_rl/nets/simple/simple.sumocfg\n",
      "/Users/md/anaconda3/lib/python3.11/site-packages/sumo_rl/nets/simple/simple.net.xml\n",
      "/Users/md/anaconda3/lib/python3.11/site-packages/sumo_rl/nets/simple/simple.nod.xml\n",
      "/Users/md/anaconda3/lib/python3.11/site-packages/sumo_rl/nets/2way-single-intersection/single-intersection-gen.rou.xml\n",
      "/Users/md/anaconda3/lib/python3.11/site-packages/sumo_rl/nets/2way-single-intersection/single-intersection.edg.xml\n",
      "/Users/md/anaconda3/lib/python3.11/site-packages/sumo_rl/nets/2way-single-intersection/single-intersection.nod.xml\n",
      "/Users/md/anaconda3/lib/python3.11/site-packages/sumo_rl/nets/2way-single-intersection/single-intersection-vhvh.rou.xml\n",
      "/Users/md/anaconda3/lib/python3.11/site-packages/sumo_rl/nets/2way-single-intersection/single-intersection-horizontal.rou.xml\n",
      "/Users/md/anaconda3/lib/python3.11/site-packages/sumo_rl/nets/2way-single-intersection/single-intersection.sumocfg\n",
      "/Users/md/anaconda3/lib/python3.11/site-packages/sumo_rl/nets/2way-single-intersection/single-intersection-vertical.rou.xml\n",
      "/Users/md/anaconda3/lib/python3.11/site-packages/sumo_rl/nets/2way-single-intersection/single-intersection.net.xml\n",
      "/Users/md/anaconda3/lib/python3.11/site-packages/sumo_rl/nets/double/network.net.xml\n",
      "/Users/md/anaconda3/lib/python3.11/site-packages/sumo_rl/nets/double/flow.rou.xml\n",
      "/Users/md/anaconda3/lib/python3.11/site-packages/sumo_rl/nets/3x3grid/3x3grid.sumocfg\n",
      "/Users/md/anaconda3/lib/python3.11/site-packages/sumo_rl/nets/3x3grid/routes14000.rou.xml\n",
      "/Users/md/anaconda3/lib/python3.11/site-packages/sumo_rl/nets/3x3grid/3x3Grid2lanes.net.xml\n",
      "/Users/md/anaconda3/lib/python3.11/site-packages/sumo_rl/nets/RESCO/grid4x4/grid4x4_1.rou.xml\n",
      "/Users/md/anaconda3/lib/python3.11/site-packages/sumo_rl/nets/RESCO/grid4x4/grid4x4.sumocfg\n",
      "/Users/md/anaconda3/lib/python3.11/site-packages/sumo_rl/nets/RESCO/grid4x4/grid4x4.net.xml\n",
      "/Users/md/anaconda3/lib/python3.11/site-packages/sumo_rl/nets/RESCO/cologne3/cologne3.rou.xml\n",
      "/Users/md/anaconda3/lib/python3.11/site-packages/sumo_rl/nets/RESCO/cologne3/cologne3.sumocfg\n",
      "/Users/md/anaconda3/lib/python3.11/site-packages/sumo_rl/nets/RESCO/cologne3/cologne3.net.xml\n",
      "/Users/md/anaconda3/lib/python3.11/site-packages/sumo_rl/nets/RESCO/arterial4x4/arterial4x4_1.rou.xml\n",
      "/Users/md/anaconda3/lib/python3.11/site-packages/sumo_rl/nets/RESCO/arterial4x4/arterial4x4.sumocfg\n",
      "/Users/md/anaconda3/lib/python3.11/site-packages/sumo_rl/nets/RESCO/arterial4x4/arterial4x4.net.xml\n",
      "/Users/md/anaconda3/lib/python3.11/site-packages/sumo_rl/nets/RESCO/ingolstadt21/ingolstadt21.net.xml\n",
      "/Users/md/anaconda3/lib/python3.11/site-packages/sumo_rl/nets/RESCO/ingolstadt21/ingolstadt21.sumocfg\n",
      "/Users/md/anaconda3/lib/python3.11/site-packages/sumo_rl/nets/RESCO/ingolstadt21/ingolstadt21.rou.xml\n",
      "/Users/md/anaconda3/lib/python3.11/site-packages/sumo_rl/nets/RESCO/ingolstadt1/ingolstadt1.net.xml\n",
      "/Users/md/anaconda3/lib/python3.11/site-packages/sumo_rl/nets/RESCO/ingolstadt1/ingolstadt1.rou.xml\n",
      "/Users/md/anaconda3/lib/python3.11/site-packages/sumo_rl/nets/RESCO/ingolstadt1/ingolstadt1.sumocfg\n",
      "/Users/md/anaconda3/lib/python3.11/site-packages/sumo_rl/nets/RESCO/ingolstadt7/ingolstadt7.sumocfg\n",
      "/Users/md/anaconda3/lib/python3.11/site-packages/sumo_rl/nets/RESCO/ingolstadt7/ingolstadt7.rou.xml\n",
      "/Users/md/anaconda3/lib/python3.11/site-packages/sumo_rl/nets/RESCO/ingolstadt7/ingolstadt7.net.xml\n",
      "/Users/md/anaconda3/lib/python3.11/site-packages/sumo_rl/nets/RESCO/cologne1/cologne1.net.xml\n",
      "/Users/md/anaconda3/lib/python3.11/site-packages/sumo_rl/nets/RESCO/cologne1/cologne1.rou.xml\n",
      "/Users/md/anaconda3/lib/python3.11/site-packages/sumo_rl/nets/RESCO/cologne1/cologne1.sumocfg\n",
      "/Users/md/anaconda3/lib/python3.11/site-packages/sumo_rl/nets/RESCO/cologne8/cologne8.net.xml\n",
      "/Users/md/anaconda3/lib/python3.11/site-packages/sumo_rl/nets/RESCO/cologne8/cologne8.rou.xml\n",
      "/Users/md/anaconda3/lib/python3.11/site-packages/sumo_rl/nets/RESCO/cologne8/cologne8.sumocfg\n",
      "/Users/md/anaconda3/lib/python3.11/site-packages/sumo_rl/nets/4x4-Lucas/4x4c2c1.rou.xml\n",
      "/Users/md/anaconda3/lib/python3.11/site-packages/sumo_rl/nets/4x4-Lucas/4x4.net.xml\n",
      "/Users/md/anaconda3/lib/python3.11/site-packages/sumo_rl/nets/4x4-Lucas/4x4.sumocfg\n",
      "/Users/md/anaconda3/lib/python3.11/site-packages/sumo_rl/nets/4x4-Lucas/4x4.nod.xml\n",
      "/Users/md/anaconda3/lib/python3.11/site-packages/sumo_rl/nets/4x4-Lucas/4x4teste.rou.xml\n",
      "/Users/md/anaconda3/lib/python3.11/site-packages/sumo_rl/nets/4x4-Lucas/4x4.edg.xml\n",
      "/Users/md/anaconda3/lib/python3.11/site-packages/sumo_rl/nets/4x4-Lucas/4x4c1c2.rou.xml\n",
      "/Users/md/anaconda3/lib/python3.11/site-packages/sumo_rl/nets/4x4-Lucas/4x4c2.rou.xml\n",
      "/Users/md/anaconda3/lib/python3.11/site-packages/sumo_rl/nets/4x4-Lucas/4x4c1.rou.xml\n",
      "/Users/md/anaconda3/lib/python3.11/site-packages/sumo_rl/nets/4x4-Lucas/4x4c1c2c1c2.rou.xml\n",
      "/Users/md/anaconda3/lib/python3.11/site-packages/sumo_rl/nets/4x4-Lucas/metrics/result_plot.py\n",
      "/Users/md/anaconda3/lib/python3.11/site-packages/sumo_rl/nets/4x4-Lucas/metrics/__pycache__/result_plot.cpython-311.pyc\n",
      "/Users/md/anaconda3/lib/python3.11/site-packages/sumo_rl/nets/Nguyen/nguyen.trips.xml\n",
      "/Users/md/anaconda3/lib/python3.11/site-packages/sumo_rl/nets/Nguyen/nguyen.taz.xml\n",
      "/Users/md/anaconda3/lib/python3.11/site-packages/sumo_rl/nets/Nguyen/nguyen.sumocfg\n",
      "/Users/md/anaconda3/lib/python3.11/site-packages/sumo_rl/nets/Nguyen/nguyentl.net.xml\n",
      "/Users/md/anaconda3/lib/python3.11/site-packages/sumo_rl/nets/Nguyen/nguyenNoTL.net.xml\n",
      "/Users/md/anaconda3/lib/python3.11/site-packages/sumo_rl/nets/Nguyen/nguyen.nod.xml\n",
      "/Users/md/anaconda3/lib/python3.11/site-packages/sumo_rl/nets/Nguyen/nguyencontextroutes.rou.xml\n",
      "/Users/md/anaconda3/lib/python3.11/site-packages/sumo_rl/nets/Nguyen/nguyen.edg.xml\n",
      "/Users/md/anaconda3/lib/python3.11/site-packages/sumo_rl/nets/Nguyen/nguyentesteod.rou.alt.xml\n",
      "/Users/md/anaconda3/lib/python3.11/site-packages/sumo_rl/nets/Nguyen/nguyenBlog.rou.xml\n",
      "/Users/md/anaconda3/lib/python3.11/site-packages/sumo_rl/nets/Nguyen/nguyen.flows.xml\n",
      "/Users/md/anaconda3/lib/python3.11/site-packages/sumo_rl/nets/Nguyen/nguyentesteod.rou.xml\n",
      "/Users/md/anaconda3/lib/python3.11/site-packages/sumo_rl/nets/Nguyen/nguyencontext.rou.alt.xml\n",
      "/Users/md/anaconda3/lib/python3.11/site-packages/sumo_rl/nets/Nguyen/nguyencontext.rou.xml\n",
      "/Users/md/anaconda3/lib/python3.11/site-packages/sumo_rl/nets/Nguyen/flows/nguyenTeste.rou.alt.xml\n",
      "/Users/md/anaconda3/lib/python3.11/site-packages/sumo_rl/nets/Nguyen/flows/nguyen700.flows.xml\n",
      "/Users/md/anaconda3/lib/python3.11/site-packages/sumo_rl/nets/Nguyen/flows/nguyen500.flows.xml\n",
      "/Users/md/anaconda3/lib/python3.11/site-packages/sumo_rl/nets/Nguyen/flows/nguyen2lanes.rou.alt.xml\n",
      "/Users/md/anaconda3/lib/python3.11/site-packages/sumo_rl/nets/Nguyen/flows/nguyen2lanes.rou.xml\n",
      "/Users/md/anaconda3/lib/python3.11/site-packages/sumo_rl/nets/Nguyen/flows/nguyenTeste.rou.xml\n",
      "/Users/md/anaconda3/lib/python3.11/site-packages/sumo_rl/nets/Nguyen/flows/nguyenTeste.flows.xml\n",
      "/Users/md/anaconda3/lib/python3.11/site-packages/sumo_rl/nets/2x2grid/2x2.net.xml\n",
      "/Users/md/anaconda3/lib/python3.11/site-packages/sumo_rl/nets/2x2grid/2x2.rou.xml\n",
      "/Users/md/anaconda3/lib/python3.11/site-packages/sumo_rl/nets/4x4loop/circle.add.xml\n",
      "/Users/md/anaconda3/lib/python3.11/site-packages/sumo_rl/nets/4x4loop/4x4loop.edg.xml\n",
      "/Users/md/anaconda3/lib/python3.11/site-packages/sumo_rl/nets/4x4loop/output_sumo.xml\n",
      "/Users/md/anaconda3/lib/python3.11/site-packages/sumo_rl/nets/4x4loop/4x4loop.net.xml\n",
      "/Users/md/anaconda3/lib/python3.11/site-packages/sumo_rl/nets/4x4loop/4x4loop.rou.xml\n",
      "/Users/md/anaconda3/lib/python3.11/site-packages/sumo_rl/nets/4x4loop/4x4loop.sumocfg\n",
      "/Users/md/anaconda3/lib/python3.11/site-packages/sumo_rl/nets/4x4loop/4x4loop.nod.xml\n",
      "/Users/md/anaconda3/lib/python3.11/site-packages/sumo_rl/environment/env.py\n",
      "/Users/md/anaconda3/lib/python3.11/site-packages/sumo_rl/environment/observations.py\n",
      "/Users/md/anaconda3/lib/python3.11/site-packages/sumo_rl/environment/traffic_signal.py\n",
      "/Users/md/anaconda3/lib/python3.11/site-packages/sumo_rl/environment/__init__.py\n",
      "/Users/md/anaconda3/lib/python3.11/site-packages/sumo_rl/environment/resco_envs.py\n",
      "/Users/md/anaconda3/lib/python3.11/site-packages/sumo_rl/environment/__pycache__/resco_envs.cpython-311.pyc\n",
      "/Users/md/anaconda3/lib/python3.11/site-packages/sumo_rl/environment/__pycache__/observations.cpython-311.pyc\n",
      "/Users/md/anaconda3/lib/python3.11/site-packages/sumo_rl/environment/__pycache__/traffic_signal.cpython-311.pyc\n",
      "/Users/md/anaconda3/lib/python3.11/site-packages/sumo_rl/environment/__pycache__/env.cpython-311.pyc\n",
      "/Users/md/anaconda3/lib/python3.11/site-packages/sumo_rl/environment/__pycache__/__init__.cpython-311.pyc\n"
     ]
    }
   ],
   "source": [
    "\n",
    "# Get the path to the installed sumo-rl package\n",
    "sumo_rl_path = os.path.dirname(sumo_rl.__file__)\n",
    "print(\"Path to sumo-rl package:\", sumo_rl_path)\n",
    "\n",
    "# Optional: List the contents of the package directory\n",
    "for root, dirs, files in os.walk(sumo_rl_path):\n",
    "    for file in files:\n",
    "        print(os.path.join(root, file))\n"
   ]
  },
  {
   "cell_type": "markdown",
   "id": "5122a44c934ecace",
   "metadata": {
    "collapsed": false,
    "jp-MarkdownHeadingCollapsed": true
   },
   "source": [
    "# Environment Setup"
   ]
  },
  {
   "cell_type": "code",
   "execution_count": 108,
   "id": "20a1c5c1ea8804ca",
   "metadata": {
    "ExecuteTime": {
     "end_time": "2024-06-10T18:50:39.772474Z",
     "start_time": "2024-06-10T18:50:39.767870Z"
    },
    "collapsed": false
   },
   "outputs": [],
   "source": [
    "if \"SUMO_HOME\" in os.environ:\n",
    "    tools = os.path.join(os.environ[\"SUMO_HOME\"], \"tools\")\n",
    "    sys.path.append(tools)\n",
    "else:\n",
    "    sys.exit(\"Please declare the environment variable 'SUMO_HOME'\")\n",
    "\n"
   ]
  },
  {
   "cell_type": "markdown",
   "id": "fe877000aead3f8",
   "metadata": {
    "collapsed": false
   },
   "source": [
    "## Setup Timestamp for Training"
   ]
  },
  {
   "cell_type": "code",
   "execution_count": 109,
   "id": "c1bae4701ff6a6ef",
   "metadata": {
    "ExecuteTime": {
     "end_time": "2024-06-10T18:51:38.472313Z",
     "start_time": "2024-06-10T18:51:38.468639Z"
    },
    "collapsed": false
   },
   "outputs": [],
   "source": [
    "\n",
    "jerusalem_tz = pytz.timezone('Asia/Jerusalem')\n",
    "\n",
    "jerusalem_time = datetime.now(jerusalem_tz)\n",
    "\n",
    "# Format the timestamp\n",
    "timestamp = jerusalem_time.strftime(\"%Y%m%d_%H%M%S\")"
   ]
  },
  {
   "cell_type": "markdown",
   "id": "638c394ecfe91965",
   "metadata": {
    "collapsed": false
   },
   "source": [
    "## SUMO Package Path and Configuration File\n"
   ]
  },
  {
   "cell_type": "code",
   "execution_count": 110,
   "id": "a7740527d1c3b92a",
   "metadata": {
    "ExecuteTime": {
     "end_time": "2024-06-10T18:51:41.175455Z",
     "start_time": "2024-06-10T18:51:41.173692Z"
    },
    "collapsed": false
   },
   "outputs": [],
   "source": [
    "package_path = os.path.dirname(sumo_rl.__file__)\n",
    "sumo_cfg_path = os.path.join(package_path, \"nets/single-intersection/single-intersection.sumocfg\")\n"
   ]
  },
  {
   "cell_type": "markdown",
   "id": "fc9aa04632b33891",
   "metadata": {
    "collapsed": false
   },
   "source": [
    "## Environment preparation for the Agent training"
   ]
  },
  {
   "cell_type": "code",
   "execution_count": 111,
   "id": "d05e7dbd0bb77c00",
   "metadata": {
    "ExecuteTime": {
     "end_time": "2024-06-10T18:51:44.235933Z",
     "start_time": "2024-06-10T18:51:43.210443Z"
    },
    "collapsed": false
   },
   "outputs": [
    {
     "name": "stdout",
     "output_type": "stream",
     "text": [
      " Retrying in 1 seconds\n",
      "Step #0.00 (0ms ?*RT. ?UPS, TraCI: 7ms, vehicles TOT 0 ACT 0 BUF 0)                      \r\n",
      "SUMO environment created\n"
     ]
    }
   ],
   "source": [
    "env_dqn_agent = SumoEnvironment(\n",
    "    net_file=f\"{package_path}/nets/single-intersection/single-intersection.net.xml\",\n",
    "    route_file=f\"{package_path}/nets/single-intersection/single-intersection.rou.xml\",\n",
    "    out_csv_name=f\"Outputs/single-intersection/dqn_{timestamp}.csv\",\n",
    "    single_agent=True,\n",
    "    use_gui=True,\n",
    "    num_seconds=3600,\n",
    ")\n",
    "print(\"SUMO environment for agent training was created\")"
   ]
  },
  {
   "cell_type": "markdown",
   "id": "4100a4e85145651c",
   "metadata": {
    "collapsed": false
   },
   "source": [
    "## Environment preparation for the Naive solution"
   ]
  },
  {
   "cell_type": "code",
   "execution_count": null,
   "id": "1b05b31a999e0e8c",
   "metadata": {
    "collapsed": false
   },
   "outputs": [],
   "source": [
    "env_fixed_policy = SumoEnvironment(\n",
    "        net_file=f\"{package_path}/nets/single-intersection/single-intersection.net.xml\",\n",
    "        route_file=f\"{package_path}/nets/single-intersection/single-intersection.rou.xml\",\n",
    "        out_csv_name = f\"Outputs/single-intersection/dqn_{timestamp}.csv\",\n",
    "        single_agent=True,\n",
    "        use_gui=True,\n",
    "        num_seconds=3600,\n",
    "        min_green=42,\n",
    "        max_green=42,\n",
    "        yellow_time=2\n",
    "    )\n",
    "\n",
    "print(\"SUMO environment for naive solution was created\")"
   ]
  },
  {
   "cell_type": "markdown",
   "id": "132335f67211fa04",
   "metadata": {
    "collapsed": false,
    "jp-MarkdownHeadingCollapsed": true
   },
   "source": [
    "# Agent Setup"
   ]
  },
  {
   "cell_type": "code",
   "execution_count": 112,
   "id": "bece3149506ba49a",
   "metadata": {
    "ExecuteTime": {
     "end_time": "2024-06-10T18:51:46.036323Z",
     "start_time": "2024-06-10T18:51:45.995376Z"
    },
    "collapsed": false
   },
   "outputs": [
    {
     "name": "stdout",
     "output_type": "stream",
     "text": [
      "Using cpu device\n",
      "Wrapping the env with a `Monitor` wrapper\n",
      "Wrapping the env in a DummyVecEnv.\n"
     ]
    }
   ],
   "source": [
    "rl_model = DQN(\n",
    "    env=env_dqn_agent,\n",
    "    policy=\"MlpPolicy\",\n",
    "    learning_rate=0.001,\n",
    "    learning_starts=0,\n",
    "    train_freq=1,\n",
    "    target_update_interval=1,\n",
    "    exploration_initial_eps=0.05,\n",
    "    exploration_final_eps=0.01,\n",
    "    verbose=2,\n",
    ")"
   ]
  },
  {
   "cell_type": "markdown",
   "id": "9b933781388e1273",
   "metadata": {
    "collapsed": false,
    "jp-MarkdownHeadingCollapsed": true
   },
   "source": [
    "# Naive Solution Setup"
   ]
  },
  {
   "cell_type": "code",
   "execution_count": null,
   "id": "18dc6aaad1ade6f2",
   "metadata": {
    "collapsed": false
   },
   "outputs": [],
   "source": [
    "naive_model = DQN(\n",
    "    env=env_fixed_policy,\n",
    "    policy=\"MlpPolicy\",\n",
    "    learning_rate=0.00000000000001,\n",
    "    learning_starts=0,\n",
    "    train_freq=1,\n",
    "    target_update_interval=1,\n",
    "    exploration_initial_eps=0.05,\n",
    "    exploration_final_eps=0.01,\n",
    "    verbose=2,\n",
    ")\n",
    "\n",
    "sumo_binary = '/opt/homebrew/Cellar/sumo/1.20.0/bin/sumo-gui'"
   ]
  },
  {
   "cell_type": "markdown",
   "id": "74d3c8757ed86b19",
   "metadata": {
    "collapsed": false,
    "jp-MarkdownHeadingCollapsed": true
   },
   "source": [
    "# Training the agent"
   ]
  },
  {
   "cell_type": "markdown",
   "id": "c0798a29d5c2e92d",
   "metadata": {
    "collapsed": false
   },
   "source": [
    "## Run the following code to get the path to the SUMO remote server\n"
   ]
  },
  {
   "cell_type": "code",
   "execution_count": 113,
   "id": "9cfb0e118feaf85a",
   "metadata": {
    "ExecuteTime": {
     "end_time": "2024-06-10T18:51:53.223374Z",
     "start_time": "2024-06-10T18:51:53.220774Z"
    },
    "collapsed": false
   },
   "outputs": [
    {
     "name": "stdout",
     "output_type": "stream",
     "text": [
      "Run the following command in the terminal to start the SUMO server:\n",
      "sumo-gui -c /Users/md/anaconda3/lib/python3.11/site-packages/sumo_rl/nets/single-intersection/single-intersection.sumocfg --remote-port 65533\n"
     ]
    }
   ],
   "source": [
    "# Use the package path in your command\n",
    "if package_path:\n",
    "    cmd = f\"sumo-gui -c {sumo_cfg_path} --remote-port 65533\"\n",
    "    print(\"Run the following command in the terminal to start the SUMO server:\")\n",
    "    print(cmd)\n",
    "else:\n",
    "    print(\"sumo-rl package not found. Make sure it is installed.\")"
   ]
  },
  {
   "cell_type": "code",
   "execution_count": 86,
   "id": "a7e7c92cffe4fc92",
   "metadata": {
    "ExecuteTime": {
     "end_time": "2024-06-09T11:55:54.731385Z",
     "start_time": "2024-06-09T11:55:53.450240Z"
    },
    "collapsed": false
   },
   "outputs": [
    {
     "name": "stdout",
     "output_type": "stream",
     "text": [
      "Connecting to SUMO server...\n",
      "Connected to SUMO server\n",
      "Starting training\n",
      " Retrying in 1 seconds\n",
      "Training completed\n",
      "Model saved\n",
      "TraCI connection closed\n"
     ]
    }
   ],
   "source": [
    "if __name__ == \"__main__\":\n",
    "    print(\"Connecting to SUMO server...\")\n",
    "    traci.connect(port=65533)\n",
    "    print(\"Connected to SUMO server\")\n",
    "    \n",
    "    num_of_episodes = 80\n",
    "    print(\"Starting training\")\n",
    "    rl_model.learn(total_timesteps=(720*num_of_episodes))\n",
    "    print(\"Training completed\")\n",
    "\n",
    "    # Save the model\n",
    "    rl_model.save(f'savedAgent/single-intersection/dqnEpNum{num_of_episodes}')\n",
    "    print(\"Model saved\")\n",
    "\n",
    "    # Close the TraCI connection\n",
    "    traci.close()\n",
    "    print(\"TraCI connection closed\")\n"
   ]
  },
  {
   "cell_type": "markdown",
   "id": "50849b7052137b45",
   "metadata": {
    "collapsed": false,
    "jp-MarkdownHeadingCollapsed": true
   },
   "source": [
    "# Agent Prediction"
   ]
  },
  {
   "cell_type": "code",
   "execution_count": null,
   "id": "b5e9ebb946796953",
   "metadata": {
    "collapsed": false
   },
   "outputs": [],
   "source": [
    "def capture_screenshot(output_path, episode, step):\n",
    "    file_name = f\"episode_{episode}_step_{step}.png\"\n",
    "    file_path = os.path.join(output_path, file_name)\n",
    "    traci.gui.screenshot(traci.gui.DEFAULT_VIEW, file_path)\n",
    "\n",
    "\n",
    "def agent_predict(env, model, episodes, save_path):\n",
    "    if not os.path.exists(save_path):\n",
    "        os.makedirs(save_path)\n",
    "\n",
    "    rewards_per_episode = []  # List to store rewards for each episode\n",
    "\n",
    "    for episode in range(episodes):\n",
    "        obs, info = env.reset()\n",
    "        done = False\n",
    "        step = 0\n",
    "        total_reward = 0  # Variable to store total reward for the episode\n",
    "        while step < 3600:\n",
    "            action, _states = model.predict(obs)\n",
    "            results = env.step(action)\n",
    "            if len(results) == 5:\n",
    "                obs, rewards, done, _, info = results\n",
    "                if done:\n",
    "                    print(f\"DONE: {done}\")\n",
    "            else:\n",
    "                raise ValueError(f\"Expected 5 values from env.step(), got {len(results)}\")\n",
    "            total_reward += rewards  # Accumulate rewards\n",
    "            # Capture and save the environment state every 10 steps\n",
    "            # if step % 10 == 0:\n",
    "            #     capture_screenshot(save_path, episode, step)\n",
    "            step += 1\n",
    "        rewards_per_episode.append(total_reward)  # Append total reward for this episode\n",
    "\n",
    "    # Plot the rewards\n",
    "    plt.plot(range(1, episodes + 1), rewards_per_episode, marker='o')\n",
    "    plt.xlabel('Episode')\n",
    "    plt.ylabel('Total Reward')\n",
    "    plt.title('Improvement in Total Reward over Episodes')\n",
    "    plt.grid(True)\n",
    "    plt.show()\n",
    "\n",
    "\n",
    "if __name__ == \"__main__\":\n",
    "    print(\"Connecting to SUMO server...\")\n",
    "    traci_connection_predict = traci.connect(port=65533)\n",
    "    print(\"Connected to SUMO server\")\n",
    "\n",
    "    # Load the trained model\n",
    "    loaded_model = DQN.load('Outputs/single-intersection/dqn20240604_165649.zip')\n",
    "    agent_predict(env=env_dqn_agent, model=loaded_model, episodes=3, save_path='Outputs/single-intersection/dqn_images')\n",
    "    traci.close()"
   ]
  },
  {
   "cell_type": "markdown",
   "id": "37baa9d849fe4e1",
   "metadata": {
    "collapsed": false,
    "jp-MarkdownHeadingCollapsed": true
   },
   "source": [
    "# Naive Fixed-Time Solution"
   ]
  },
  {
   "cell_type": "code",
   "execution_count": 119,
   "id": "fac49ff3afbe6b31",
   "metadata": {
    "ExecuteTime": {
     "end_time": "2024-06-10T18:54:32.946380Z",
     "start_time": "2024-06-10T18:54:32.942049Z"
    },
    "collapsed": false
   },
   "outputs": [],
   "source": [
    "if __name__ == \"__main__\":\n",
    "    print(\"Connecting to SUMO server...\")\n",
    "    traci_connection_predict = traci.connect(port=65533)\n",
    "    print(\"Connected to SUMO server\")\n",
    "\n",
    "    # Load the trained model\n",
    "    loaded_model = DQN.load('Navie_solution_model') # Load the naive solution model\n",
    "    agent_predict(env=env_fixed_policy, model=loaded_model, episodes=3, save_path='Outputs/single-intersection/dqn_images')\n",
    "    traci.close()"
   ]
  },
  {
   "cell_type": "markdown",
   "id": "b3c8c50cd03c5481",
   "metadata": {
    "collapsed": false,
    "jp-MarkdownHeadingCollapsed": true
   },
   "source": [
    "# Create a Video from the Captured Images"
   ]
  },
  {
   "cell_type": "code",
   "execution_count": 10,
   "id": "6c0e6619e85ecfe6",
   "metadata": {
    "ExecuteTime": {
     "end_time": "2024-05-31T14:25:57.008720Z",
     "start_time": "2024-05-31T14:25:39.742430Z"
    },
    "collapsed": false
   },
   "outputs": [
    {
     "name": "stderr",
     "output_type": "stream",
     "text": [
      "IMAGEIO FFMPEG_WRITER WARNING: input image is not divisible by macro_block_size=16, resizing from (1430, 613) to (1440, 624) to ensure video compatibility with most codecs and players. To prevent resizing, make your input image divisible by the macro_block_size or set the macro_block_size to 1 (risking incompatibility).\n"
     ]
    },
    {
     "data": {
      "text/html": [
       "<video src=\"DQN Agent Solution.mp4\" controls  >\n",
       "      Your browser does not support the <code>video</code> element.\n",
       "    </video>"
      ],
      "text/plain": [
       "<IPython.core.display.Video object>"
      ]
     },
     "execution_count": 10,
     "metadata": {},
     "output_type": "execute_result"
    }
   ],
   "source": [
    "def create_video(output_path, title):\n",
    "    images = []\n",
    "    for file_name in sorted(os.listdir(output_path)):\n",
    "        if file_name.endswith(\".png\"):\n",
    "            file_path = os.path.join(output_path, file_name)\n",
    "            images.append(imageio.imread(file_path))\n",
    "    video_path = f'{title}.mp4'\n",
    "    imageio.mimsave(video_path, images, fps=10)\n",
    "    return Video(video_path)\n",
    "\n",
    "\n",
    "create_video(\"outputs/single-intersection/dqn_images\", \"DQN Agent Solution\")\n"
   ]
  },
  {
   "cell_type": "markdown",
   "id": "9b5b15b904a04a36",
   "metadata": {
    "collapsed": false,
    "jp-MarkdownHeadingCollapsed": true
   },
   "source": [
    "# Visualizing and Analyzing the Results"
   ]
  },
  {
   "cell_type": "markdown",
   "id": "c07ccd9c919dfb35",
   "metadata": {
    "collapsed": false,
    "jp-MarkdownHeadingCollapsed": true
   },
   "source": [
    "## Waiting time over episodes"
   ]
  },
  {
   "cell_type": "code",
   "execution_count": null,
   "id": "78861701e9e79222",
   "metadata": {
    "collapsed": false
   },
   "outputs": [],
   "source": [
    "\n",
    "def plot_metrics(data, title, ax):\n",
    "    ax.plot(data['step'], data['system_mean_waiting_time'], label='System Mean Waiting Time')\n",
    "    ax.set_xlabel('Step Time')\n",
    "    ax.set_ylabel('System Mean Waiting Time')\n",
    "    ax.set_title(title)\n",
    "    ax.legend()\n",
    "\n",
    "def visualize_results():\n",
    "    episodes = range(5, 85, 5)\n",
    "    fig, axs = plt.subplots(len(episodes)//2, 2, figsize=(15, 20))\n",
    "    axs = axs.flatten()\n",
    "\n",
    "    for i, episode in enumerate(episodes):\n",
    "        file_path = f\"Outputs/single-intersection/dqn_20240612_164825.csv_conn1_ep{episode}.csv\"\n",
    "        title = f\"DQN Agent Solution - Episode {episode}\"\n",
    "        \n",
    "        try:\n",
    "            data = pd.read_csv(file_path)\n",
    "            if 'step' not in data.columns or 'system_mean_waiting_time' not in data.columns:\n",
    "                raise KeyError(\"CSV file does not contain required columns: 'step' and 'system_mean_waiting_time'\")\n",
    "            \n",
    "            plot_metrics(data, title, axs[i])\n",
    "        \n",
    "        except FileNotFoundError:\n",
    "            print(f\"File not found: {file_path}\")\n",
    "        except KeyError as e:\n",
    "            print(e)\n",
    "\n",
    "    plt.tight_layout()\n",
    "    plt.show()\n",
    "\n",
    "if __name__ == \"__main__\":\n",
    "    visualize_results()\n",
    "    "
   ]
  },
  {
   "cell_type": "markdown",
   "id": "b46a0799682f5613",
   "metadata": {
    "collapsed": false
   },
   "source": [
    "## Calculate the Overall Average Waiting Time"
   ]
  },
  {
   "cell_type": "markdown",
   "id": "68d2aeb60f896a1",
   "metadata": {
    "collapsed": false
   },
   "source": [
    "### DQN Agent Solution and Naive Solution"
   ]
  },
  {
   "cell_type": "code",
   "execution_count": null,
   "id": "96b202e56f741ffc",
   "metadata": {
    "collapsed": false
   },
   "outputs": [],
   "source": [
    "# change to def and send different path every time and range of episodes\n",
    "\n",
    "mean_average_waiting_time = 0\n",
    "list_of_average = []\n",
    "episodes = list(range(5, 85))  # Define the correct range of episodes\n",
    "\n",
    "# Load the new CSV file\n",
    "for episode in episodes:\n",
    "    file_path = f'Outputs/single-intersection/dqn_20240612_164825.csv_conn1_ep{episode}.csv'\n",
    "    data = pd.read_csv(file_path)\n",
    "    # Calculate the overall average waiting time\n",
    "    average_waiting_time = data['system_mean_waiting_time'].mean()\n",
    "    mean_average_waiting_time += average_waiting_time  \n",
    "    list_of_average.append(average_waiting_time)\n",
    "\n",
    "# Calculate the overall mean average waiting time\n",
    "overall_mean_average_waiting_time = mean_average_waiting_time / len(episodes)\n",
    "print(f'The overall average waiting time is: {overall_mean_average_waiting_time}\\n')\n",
    "\n",
    "# Plotting the average waiting time over episodes\n",
    "plt.figure(figsize=(12, 8))\n",
    "plt.plot(episodes, list_of_average, marker='o', linestyle='-', color='r', label='Avg Waiting Time')\n",
    "plt.xlabel('Episode')\n",
    "plt.ylabel('Average Waiting Time')\n",
    "plt.title('Improvement in System Mean Waiting Time over Episodes')\n",
    "plt.grid(True, linestyle='--', alpha=0.7)\n",
    "plt.legend()\n",
    "plt.show()"
   ]
  },
  {
   "cell_type": "markdown",
   "id": "21c06b4967f501a4",
   "metadata": {
    "collapsed": false
   },
   "source": [
    "# The END"
   ]
  },
  {
   "cell_type": "code",
   "outputs": [],
   "source": [
    "# write function to convert xml to csv\n",
    "import xml.etree.ElementTree as ET\n",
    "import pandas as pd\n",
    "\n",
    "def xml_to_csv(xml_file_path, csv_file_path):\n",
    "    tree = ET.parse(xml_file_path)\n",
    "    root = tree.getroot()\n",
    "\n",
    "    data = {\n",
    "        'id': [],\n",
    "        'depart': [],\n",
    "        'arrival': [],\n",
    "        'waitingTime': []\n",
    "    }\n",
    "\n",
    "    for tripinfo in root.findall('tripinfo'):\n",
    "        data['id'].append(tripinfo.get('id'))\n",
    "        data['depart'].append(float(tripinfo.get('depart')))\n",
    "        data['arrival'].append(float(tripinfo.get('arrival')))\n",
    "        data['waitingTime'].append(float(tripinfo.get('waitingTime')))\n",
    "\n",
    "    df = pd.DataFrame(data)\n",
    "    df.to_csv(csv_file_path, index=False)\n",
    "    print(f\"CSV file saved as: {csv_file_path}\")\n",
    "    \n",
    "file_to_convert = '/Users/md/Desktop/sumo-rl/nets/single-intersection/trip_info.xml'\n",
    "csv_file_path = '/Users/md/Desktop/sumo-rl/nets/single-intersection/trip_info.csv'\n",
    "xml_to_csv(file_to_convert, csv_file_path)"
   ],
   "metadata": {
    "collapsed": false
   },
   "id": "55fef8436660640"
  }
 ],
 "metadata": {
  "kernelspec": {
   "display_name": "Python 3 (ipykernel)",
   "language": "python",
   "name": "python3"
  },
  "language_info": {
   "codemirror_mode": {
    "name": "ipython",
    "version": 3
   },
   "file_extension": ".py",
   "mimetype": "text/x-python",
   "name": "python",
   "nbconvert_exporter": "python",
   "pygments_lexer": "ipython3",
   "version": "3.11.9"
  }
 },
 "nbformat": 4,
 "nbformat_minor": 5
}
