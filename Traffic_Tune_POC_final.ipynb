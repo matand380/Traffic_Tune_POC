{
 "cells": [
  {
   "cell_type": "markdown",
   "source": [
    "# Traffic Tune - Optimizing Traffic Signals with Reinforcement Learning\n",
    "\n",
    "## Introduction\n",
    "\n",
    "Welcome to the Traffic Tune POC notebook. Our project focused on optimizing traffic signal control using reinforcement learning. Traffic congestion is a major problem in urban areas, leading to increased travel times, fuel consumption, and pollution. Traditional traffic signal control systems often struggle to adapt to dynamic traffic conditions, resulting in suboptimal traffic flow.\n",
    "\n",
    "Traffic Tune is a recommendation system that leverages reinforcement learning to dynamically adjust traffic signals at intersections. By learning from traffic patterns in real-time, Traffic Tune aims to improve traffic flow, reduce congestion, and enhance overall transportation efficiency.\n",
    "\n",
    "In this POC, we will demonstrate how to train a reinforcement learning agent to optimize traffic signal control in a simulated environment. We will use the SUMO (Simulation of Urban MObility) traffic simulation tool and the Stable Baselines3 library to train a Deep Q-Network (DQN) agent to learn an optimal traffic signal control policy.\n"
   ],
   "metadata": {
    "collapsed": false
   },
   "id": "98a145c81c2dbf7b"
  },
  {
   "cell_type": "markdown",
   "id": "2476f7866dc519ab",
   "metadata": {
    "collapsed": false,
    "jp-MarkdownHeadingCollapsed": true
   },
   "source": [
    "# Setup and Installations"
   ]
  },
  {
   "cell_type": "code",
   "outputs": [],
   "source": [
    "import stable_baselines3\n",
    "import matplotlib\n",
    "import traci\n",
    "import sumo_rl\n",
    "import imageio\n",
    "import numpy as np\n",
    "import tensorboard\n",
    "import os\n",
    "import sys\n",
    "import gymnasium as gym\n",
    "from stable_baselines3.dqn.dqn import DQN\n",
    "import traci\n",
    "from sumo_rl import SumoEnvironment\n",
    "from datetime import datetime\n",
    "import pytz\n",
    "import matplotlib.pyplot as plt\n",
    "from stable_baselines3 import DQN\n",
    "import imageio.v2 as imageio\n",
    "from IPython.display import Video\n",
    "import pandas as pd"
   ],
   "metadata": {
    "collapsed": false,
    "ExecuteTime": {
     "end_time": "2024-06-13T08:48:24.160572Z",
     "start_time": "2024-06-13T08:48:24.151464Z"
    }
   },
   "id": "1dd2f124c075086e",
   "execution_count": 10
  },
  {
   "cell_type": "code",
   "execution_count": 11,
   "id": "initial_id",
   "metadata": {
    "collapsed": true,
    "jupyter": {
     "outputs_hidden": true
    },
    "ExecuteTime": {
     "end_time": "2024-06-13T08:48:26.714756Z",
     "start_time": "2024-06-13T08:48:26.710014Z"
    }
   },
   "outputs": [
    {
     "name": "stdout",
     "output_type": "stream",
     "text": [
      "SUMO_HOME: /opt/homebrew/opt/sumo/share/sumo\n",
      "Path to sumo-rl package: /Users/md/anaconda3/lib/python3.11/site-packages/sumo_rl\n"
     ]
    }
   ],
   "source": [
    "print(\"SUMO_HOME:\", os.environ.get(\"SUMO_HOME\"))\n",
    "# Get the path to the installed sumo-rl package\n",
    "sumo_rl_path = os.path.dirname(sumo_rl.__file__)\n",
    "print(\"Path to sumo-rl package:\", sumo_rl_path)"
   ]
  },
  {
   "cell_type": "markdown",
   "id": "5122a44c934ecace",
   "metadata": {
    "collapsed": false,
    "jp-MarkdownHeadingCollapsed": true
   },
   "source": [
    "# Environment Setup"
   ]
  },
  {
   "cell_type": "code",
   "execution_count": 6,
   "id": "20a1c5c1ea8804ca",
   "metadata": {
    "collapsed": false,
    "ExecuteTime": {
     "end_time": "2024-06-13T06:38:18.188249Z",
     "start_time": "2024-06-13T06:38:18.185374Z"
    }
   },
   "outputs": [],
   "source": [
    "if \"SUMO_HOME\" in os.environ:\n",
    "    tools = os.path.join(os.environ[\"SUMO_HOME\"], \"tools\")\n",
    "    sys.path.append(tools)\n",
    "else:\n",
    "    sys.exit(\"Please declare the environment variable 'SUMO_HOME'\")"
   ]
  },
  {
   "cell_type": "markdown",
   "id": "fe877000aead3f8",
   "metadata": {
    "collapsed": false
   },
   "source": [
    "### Setup Timestamp for Training"
   ]
  },
  {
   "cell_type": "code",
   "execution_count": 12,
   "id": "c1bae4701ff6a6ef",
   "metadata": {
    "collapsed": false,
    "ExecuteTime": {
     "end_time": "2024-06-13T08:48:28.384734Z",
     "start_time": "2024-06-13T08:48:28.381125Z"
    }
   },
   "outputs": [],
   "source": [
    "jerusalem_tz = pytz.timezone('Asia/Jerusalem')\n",
    "\n",
    "jerusalem_time = datetime.now(jerusalem_tz)\n",
    "\n",
    "# Format the timestamp\n",
    "timestamp = jerusalem_time.strftime(\"%Y%m%d_%H%M%S\")"
   ]
  },
  {
   "cell_type": "markdown",
   "id": "638c394ecfe91965",
   "metadata": {
    "collapsed": false
   },
   "source": [
    "### SUMO Package Path and Configuration File\n"
   ]
  },
  {
   "cell_type": "code",
   "execution_count": 13,
   "id": "a7740527d1c3b92a",
   "metadata": {
    "collapsed": false,
    "ExecuteTime": {
     "end_time": "2024-06-13T08:48:29.848864Z",
     "start_time": "2024-06-13T08:48:29.846547Z"
    }
   },
   "outputs": [],
   "source": [
    "package_path = os.path.dirname(sumo_rl.__file__)\n",
    "sumo_cfg_path = os.path.join(package_path, \"nets/single-intersection/single-intersection.sumocfg\")\n"
   ]
  },
  {
   "cell_type": "markdown",
   "id": "fc9aa04632b33891",
   "metadata": {
    "collapsed": false
   },
   "source": [
    "### Environment preparations"
   ]
  },
  {
   "cell_type": "code",
   "outputs": [
    {
     "name": "stdout",
     "output_type": "stream",
     "text": [
      " Retrying in 1 seconds\n",
      "Step #0.00 (0ms ?*RT. ?UPS, TraCI: 5ms, vehicles TOT 0 ACT 0 BUF 0)                      \r\n",
      "Environment initialized for DQN Agent\n",
      " Retrying in 1 seconds\n",
      "Step #0.00 (0ms ?*RT. ?UPS, TraCI: 4ms, vehicles TOT 0 ACT 0 BUF 0)                      \r\n",
      "Environment initialized for Naive Policy\n"
     ]
    }
   ],
   "source": [
    "def initialize_sumo_environment(num_seconds, min_green, max_green,title ):\n",
    "    env = SumoEnvironment(\n",
    "        net_file=f\"{package_path}/nets/single-intersection/single-intersection.net.xml\",\n",
    "        route_file=f\"{package_path}/nets/single-intersection/single-intersection.rou.xml\",\n",
    "        out_csv_name=f\"Outputs/single-intersection/{title}/dqn_{timestamp}.csv\",\n",
    "        single_agent=True,\n",
    "        use_gui=True,\n",
    "        num_seconds=num_seconds,\n",
    "        min_green=min_green,\n",
    "        max_green=max_green,\n",
    "    )\n",
    "    return env\n",
    "\n",
    "num_seconds_1 = 3600\n",
    "min_green_1 = 42\n",
    "max_green_1 = 42\n",
    "\n",
    "num_seconds_2 = 3600\n",
    "min_green_2 = 5\n",
    "max_green_2 = 50\n",
    "\n",
    "env_dqn_agent = initialize_sumo_environment(num_seconds_1, min_green_1, max_green_1, 'DQN_Agent')\n",
    "print(\"Environment initialized for DQN Agent\")\n",
    "env_fixed_policy = initialize_sumo_environment(num_seconds_2, min_green_2, max_green_2, 'Naive_Policy')\n",
    "print(\"Environment initialized for Naive Policy\")"
   ],
   "metadata": {
    "collapsed": false,
    "ExecuteTime": {
     "end_time": "2024-06-13T10:49:47.794103Z",
     "start_time": "2024-06-13T10:49:45.726678Z"
    }
   },
   "id": "e431006c47b6a062",
   "execution_count": 79
  },
  {
   "cell_type": "markdown",
   "id": "132335f67211fa04",
   "metadata": {
    "collapsed": false,
    "jp-MarkdownHeadingCollapsed": true
   },
   "source": [
    "# Initialize models"
   ]
  },
  {
   "cell_type": "code",
   "outputs": [
    {
     "name": "stdout",
     "output_type": "stream",
     "text": [
      "Using cpu device\n",
      "Wrapping the env with a `Monitor` wrapper\n",
      "Wrapping the env in a DummyVecEnv.\n",
      "Using cpu device\n",
      "Wrapping the env with a `Monitor` wrapper\n",
      "Wrapping the env in a DummyVecEnv.\n",
      "Models initialized\n"
     ]
    }
   ],
   "source": [
    "def initialize_models(env_dqn_agent, env_fixed_policy):\n",
    "    rl_model_params = {\n",
    "        \"env\": env_dqn_agent,\n",
    "        \"policy\": \"MlpPolicy\",\n",
    "        \"learning_rate\": 0.001,\n",
    "        \"learning_starts\": 0,\n",
    "        \"train_freq\": 1,\n",
    "        \"target_update_interval\": 1,\n",
    "        \"exploration_initial_eps\": 0.05,\n",
    "        \"exploration_final_eps\": 0.01,\n",
    "        \"verbose\": 2,\n",
    "    }\n",
    "\n",
    "    naive_model_params = {\n",
    "        \"env\": env_fixed_policy,\n",
    "        \"policy\": \"MlpPolicy\",\n",
    "        \"learning_rate\": 0.00000000000001,\n",
    "        \"learning_starts\": 0,\n",
    "        \"train_freq\": 1,\n",
    "        \"target_update_interval\": 1,\n",
    "        \"exploration_initial_eps\": 0.05,\n",
    "        \"exploration_final_eps\": 0.01,\n",
    "        \"verbose\": 2,\n",
    "    }\n",
    "\n",
    "    rl_model = DQN(**rl_model_params)\n",
    "    naive_model = DQN(**naive_model_params)\n",
    "\n",
    "    return rl_model, naive_model\n",
    "\n",
    "rl_model, naive_model = initialize_models(env_dqn_agent, env_fixed_policy)\n",
    "print(\"Models initialized\")\n"
   ],
   "metadata": {
    "collapsed": false,
    "ExecuteTime": {
     "end_time": "2024-06-13T10:02:40.665155Z",
     "start_time": "2024-06-13T10:02:40.602931Z"
    }
   },
   "id": "7be48f05cb446696",
   "execution_count": 58
  },
  {
   "cell_type": "markdown",
   "id": "74d3c8757ed86b19",
   "metadata": {
    "collapsed": false,
    "jp-MarkdownHeadingCollapsed": true
   },
   "source": [
    "# Training the agent"
   ]
  },
  {
   "cell_type": "markdown",
   "id": "c0798a29d5c2e92d",
   "metadata": {
    "collapsed": false
   },
   "source": [
    "### Run the following code to get the path to the SUMO remote server\n"
   ]
  },
  {
   "cell_type": "code",
   "execution_count": 18,
   "id": "9cfb0e118feaf85a",
   "metadata": {
    "collapsed": false,
    "ExecuteTime": {
     "end_time": "2024-06-13T08:49:34.347268Z",
     "start_time": "2024-06-13T08:49:34.343994Z"
    }
   },
   "outputs": [
    {
     "name": "stdout",
     "output_type": "stream",
     "text": [
      "Run the following command in the terminal to start the SUMO server:\n",
      "sumo-gui -c /Users/md/anaconda3/lib/python3.11/site-packages/sumo_rl/nets/single-intersection/single-intersection.sumocfg --remote-port 65533\n"
     ]
    }
   ],
   "source": [
    "# Use the package path in your command\n",
    "if package_path:\n",
    "    cmd = f\"sumo-gui -c {sumo_cfg_path} --remote-port 65533\"\n",
    "    print(\"Run the following command in the terminal to start the SUMO server:\")\n",
    "    print(cmd)\n",
    "else:\n",
    "    print(\"sumo-rl package not found. Make sure it is installed.\")"
   ]
  },
  {
   "cell_type": "code",
   "execution_count": 59,
   "id": "a7e7c92cffe4fc92",
   "metadata": {
    "collapsed": false,
    "ExecuteTime": {
     "end_time": "2024-06-13T10:03:18.363171Z",
     "start_time": "2024-06-13T10:03:02.911755Z"
    }
   },
   "outputs": [
    {
     "name": "stdout",
     "output_type": "stream",
     "text": [
      "Connecting to SUMO server...\n",
      "Connected to SUMO server\n",
      "Starting training\n",
      " Retrying in 1 seconds\n",
      " Retrying in 1 seconds\n",
      "Training completed\n",
      "Model saved\n",
      "TraCI connection closed\n"
     ]
    }
   ],
   "source": [
    "if __name__ == \"__main__\":\n",
    "    print(\"Connecting to SUMO server...\")\n",
    "    traci.connect(port=65533)\n",
    "    print(\"Connected to SUMO server\")\n",
    "    \n",
    "    num_of_episodes = 1\n",
    "    print(\"Starting training\")\n",
    "    rl_model.learn(total_timesteps=(720*num_of_episodes))\n",
    "    print(\"Training completed\")\n",
    "\n",
    "    # Save the model\n",
    "    rl_model.save(f'savedAgent/single-intersection/dqnEpNum{num_of_episodes}')\n",
    "    print(\"Model saved\")\n",
    "\n",
    "    # Close the TraCI connection\n",
    "    traci.close()\n",
    "    print(\"TraCI connection closed\")\n"
   ]
  },
  {
   "cell_type": "markdown",
   "source": [
    "# Predict the Agent and the Naive Solution"
   ],
   "metadata": {
    "collapsed": false
   },
   "id": "59a533d7c9299e3"
  },
  {
   "cell_type": "code",
   "execution_count": 80,
   "id": "b5e9ebb946796953",
   "metadata": {
    "collapsed": false,
    "ExecuteTime": {
     "end_time": "2024-06-13T10:50:07.693268Z",
     "start_time": "2024-06-13T10:50:07.686586Z"
    }
   },
   "outputs": [],
   "source": [
    "def capture_screenshot(output_path, episode, step):\n",
    "    file_name = f\"episode_{episode}_step_{step}.png\"\n",
    "    file_path = os.path.join(output_path, file_name)\n",
    "    traci.gui.screenshot(traci.gui.DEFAULT_VIEW, file_path)\n",
    "\n",
    "\n",
    "def agent_predict(env, model, episodes, save_path):\n",
    "    if not os.path.exists(save_path):\n",
    "        os.makedirs(save_path)\n",
    "\n",
    "    rewards_per_episode = []  # List to store rewards for each episode\n",
    "\n",
    "    for episode in range(episodes):\n",
    "        obs, info = env.reset()\n",
    "        step = 0\n",
    "        total_reward = 0  # Variable to store total reward for the episode\n",
    "        truncated = False\n",
    "        while not truncated:\n",
    "            action, _states = model.predict(obs)\n",
    "            results = env.step(action)\n",
    "            if len(results) == 5:\n",
    "                obs, rewards, _, truncated, info = results\n",
    "                if truncated:\n",
    "                    print(f\"Truncated: {truncated}\")\n",
    "            else:\n",
    "                raise ValueError(f\"Expected 5 values from env.step(), got {len(results)}\")\n",
    "            total_reward += rewards  # Accumulate rewards\n",
    "            # Capture and save the environment state every 10 steps\n",
    "            # if step % 10 == 0:\n",
    "            #     capture_screenshot(save_path, episode, step)\n",
    "            # system_info = env._get_system_info().__getitem__('waiting_times'()\n",
    "        rewards_per_episode.append(total_reward)  # Append total reward for this episode\n",
    "\n",
    "    # Plot the rewards\n",
    "    plt.plot(range(1, episodes + 1), rewards_per_episode, marker='o')\n",
    "    plt.xlabel('Episode')\n",
    "    plt.ylabel('Total Reward')\n",
    "    plt.title('Improvement in Total Reward over Episodes')\n",
    "    plt.grid(True)\n",
    "    plt.show()\n",
    "\n"
   ]
  },
  {
   "cell_type": "markdown",
   "source": [
    "# Agent Prediction"
   ],
   "metadata": {
    "collapsed": false,
    "jp-MarkdownHeadingCollapsed": true
   },
   "id": "50849b7052137b45"
  },
  {
   "cell_type": "code",
   "outputs": [
    {
     "name": "stdout",
     "output_type": "stream",
     "text": [
      "Connecting to SUMO server...\n",
      "Connected to SUMO server\n",
      " Retrying in 1 seconds\n"
     ]
    },
    {
     "name": "stderr",
     "output_type": "stream",
     "text": [
      "Exception ignored in: <function SumoEnvironment.__del__ at 0x306d736a0>\n",
      "Traceback (most recent call last):\n",
      "  File \"/Users/md/anaconda3/lib/python3.11/site-packages/sumo_rl/environment/env.py\", line 460, in __del__\n",
      "    self.close()\n",
      "  File \"/Users/md/anaconda3/lib/python3.11/site-packages/sumo_rl/environment/env.py\", line 450, in close\n",
      "    traci.close()\n",
      "  File \"/Users/md/anaconda3/lib/python3.11/site-packages/traci/main.py\", line 262, in close\n",
      "    connection.check().close(wait)\n",
      "  File \"/Users/md/anaconda3/lib/python3.11/site-packages/traci/connection.py\", line 396, in close\n",
      "    self._sendCmd(tc.CMD_CLOSE, None, None)\n",
      "  File \"/Users/md/anaconda3/lib/python3.11/site-packages/traci/connection.py\", line 231, in _sendCmd\n",
      "    return self._sendExact()\n",
      "           ^^^^^^^^^^^^^^^^^\n",
      "  File \"/Users/md/anaconda3/lib/python3.11/site-packages/traci/connection.py\", line 137, in _sendExact\n",
      "    raise FatalTraCIError(\"Connection closed by SUMO.\")\n",
      "traci.exceptions.FatalTraCIError: Connection closed by SUMO.\n"
     ]
    },
    {
     "ename": "KeyError",
     "evalue": "'waiting_times'",
     "output_type": "error",
     "traceback": [
      "\u001B[0;31m---------------------------------------------------------------------------\u001B[0m",
      "\u001B[0;31mKeyError\u001B[0m                                  Traceback (most recent call last)",
      "Cell \u001B[0;32mIn[81], line 8\u001B[0m\n\u001B[1;32m      6\u001B[0m \u001B[38;5;66;03m# Load the trained model\u001B[39;00m\n\u001B[1;32m      7\u001B[0m loaded_model \u001B[38;5;241m=\u001B[39m DQN\u001B[38;5;241m.\u001B[39mload(\u001B[38;5;124m'\u001B[39m\u001B[38;5;124m/Users/md/Desktop/Traffic_Tune_POC/Traffic_Tune_POC/savedAgent/single-intersection/dqnEpNum1.zip\u001B[39m\u001B[38;5;124m'\u001B[39m)\n\u001B[0;32m----> 8\u001B[0m agent_predict(env\u001B[38;5;241m=\u001B[39menv_dqn_agent, model\u001B[38;5;241m=\u001B[39mloaded_model, episodes\u001B[38;5;241m=\u001B[39m\u001B[38;5;241m3\u001B[39m, save_path\u001B[38;5;241m=\u001B[39m\u001B[38;5;124m'\u001B[39m\u001B[38;5;124mOutputs/single-intersection/dqn_images\u001B[39m\u001B[38;5;124m'\u001B[39m)\n\u001B[1;32m      9\u001B[0m traci\u001B[38;5;241m.\u001B[39mclose()\n",
      "Cell \u001B[0;32mIn[80], line 31\u001B[0m, in \u001B[0;36magent_predict\u001B[0;34m(env, model, episodes, save_path)\u001B[0m\n\u001B[1;32m     27\u001B[0m total_reward \u001B[38;5;241m+\u001B[39m\u001B[38;5;241m=\u001B[39m rewards  \u001B[38;5;66;03m# Accumulate rewards\u001B[39;00m\n\u001B[1;32m     28\u001B[0m \u001B[38;5;66;03m# Capture and save the environment state every 10 steps\u001B[39;00m\n\u001B[1;32m     29\u001B[0m \u001B[38;5;66;03m# if step % 10 == 0:\u001B[39;00m\n\u001B[1;32m     30\u001B[0m \u001B[38;5;66;03m#     capture_screenshot(save_path, episode, step)\u001B[39;00m\n\u001B[0;32m---> 31\u001B[0m system_info \u001B[38;5;241m=\u001B[39m env\u001B[38;5;241m.\u001B[39m_get_system_info()\u001B[38;5;241m.\u001B[39m\u001B[38;5;21m__getitem__\u001B[39m(\u001B[38;5;124m'\u001B[39m\u001B[38;5;124mwaiting_times\u001B[39m\u001B[38;5;124m'\u001B[39m)\n\u001B[1;32m     32\u001B[0m \u001B[38;5;28;01mif\u001B[39;00m \u001B[38;5;124m'\u001B[39m\u001B[38;5;124mwaiting_times\u001B[39m\u001B[38;5;124m'\u001B[39m \u001B[38;5;129;01min\u001B[39;00m system_info:\n\u001B[1;32m     33\u001B[0m     \u001B[38;5;28mprint\u001B[39m(\u001B[38;5;124mf\u001B[39m\u001B[38;5;124m\"\u001B[39m\u001B[38;5;124mStep: \u001B[39m\u001B[38;5;132;01m{\u001B[39;00mstep\u001B[38;5;132;01m}\u001B[39;00m\u001B[38;5;124m, Waiting Times: \u001B[39m\u001B[38;5;132;01m{\u001B[39;00msystem_info[\u001B[38;5;124m'\u001B[39m\u001B[38;5;124mwaiting_times\u001B[39m\u001B[38;5;124m'\u001B[39m]\u001B[38;5;132;01m}\u001B[39;00m\u001B[38;5;124m\"\u001B[39m)\n",
      "\u001B[0;31mKeyError\u001B[0m: 'waiting_times'"
     ]
    }
   ],
   "source": [
    "if __name__ == \"__main__\":\n",
    "    print(\"Connecting to SUMO server...\")\n",
    "    traci_connection_predict = traci.connect(port=65533)\n",
    "    print(\"Connected to SUMO server\")\n",
    "\n",
    "    # Load the trained model\n",
    "    loaded_model = DQN.load('/Users/md/Desktop/Traffic_Tune_POC/Traffic_Tune_POC/savedAgent/single-intersection/dqnEpNum1.zip')\n",
    "    agent_predict(env=env_dqn_agent, model=loaded_model, episodes=3, save_path='Outputs/single-intersection/dqn_images')\n",
    "    traci.close()"
   ],
   "metadata": {
    "collapsed": false,
    "ExecuteTime": {
     "end_time": "2024-06-13T10:50:12.459350Z",
     "start_time": "2024-06-13T10:50:11.195526Z"
    }
   },
   "id": "909eb71ed1cd8fec",
   "execution_count": 81
  },
  {
   "cell_type": "markdown",
   "id": "37baa9d849fe4e1",
   "metadata": {
    "collapsed": false,
    "jp-MarkdownHeadingCollapsed": true
   },
   "source": [
    "# Naive Fixed-Time Solution"
   ]
  },
  {
   "cell_type": "code",
   "execution_count": null,
   "id": "fac49ff3afbe6b31",
   "metadata": {
    "collapsed": false
   },
   "outputs": [],
   "source": [
    "if __name__ == \"__main__\":\n",
    "    print(\"Connecting to SUMO server...\")\n",
    "    traci_connection_predict = traci.connect(port=65533)\n",
    "    print(\"Connected to SUMO server\")\n",
    "\n",
    "    agent_predict(env=env_fixed_policy, model=naive_model, episodes=1, save_path='Outputs/single-intersection/naive_images')\n",
    "\n",
    "    traci.close()"
   ]
  },
  {
   "cell_type": "code",
   "outputs": [],
   "source": [
    "def set_traffic_lights(step, duration_per_phase):\n",
    "    cycle_time = step % sum(duration_per_phase.values())\n",
    "    if cycle_time < duration_per_phase['green_a']:\n",
    "        traci.trafficlight.setPhaseDuration('t', duration_per_phase['green_a'])  # Phase 0 for Lane A\n",
    "    elif cycle_time < duration_per_phase['green_a'] + duration_per_phase['yellow_a']:\n",
    "        traci.trafficlight.setPhaseDuration('t', duration_per_phase['yellow_a'])  # Phase 1 for Lane A\n",
    "    elif cycle_time < sum(duration_per_phase.values()):\n",
    "        traci.trafficlight.setPhaseDuration('t', duration_per_phase['green_b'])  # Phase 0 for Lane B\n",
    "    else:\n",
    "        traci.trafficlight.setPhaseDuration('t', duration_per_phase['yellow_b'])  # Phase 1 for Lane B\n",
    "\n",
    "\n",
    "def fix_policy_step(step, duration_per_phase):\n",
    "    set_traffic_lights(step, duration_per_phase)\n",
    "    traci.simulationStep()\n",
    "\n",
    "def naive_solution(env, episodes, duration_per_phase, save_path):\n",
    "    if not os.path.exists(save_path):\n",
    "        os.makedirs(save_path)\n",
    "\n",
    "    rewards_per_episode = []  # List to store rewards for each episode\n",
    "\n",
    "    for episode in range(episodes):\n",
    "        obs, info = env.reset()\n",
    "        total_reward = 0  # Variable to store total reward for the episode\n",
    "        truncated = False\n",
    "        while not truncated or env.sim_step < 3600:\n",
    "            fix_policy_step(env.sim_step, duration_per_phase)\n",
    "            results = env.step(0)\n",
    "            if len(results) == 5:\n",
    "                obs, rewards, _, truncated, info = results\n",
    "                if truncated:\n",
    "                    print(f\"Truncated: {truncated}\")\n",
    "            else:\n",
    "                raise ValueError(f\"Expected 5 values from env.step(), got {len(results)}\")\n",
    "            total_reward += rewards  # Accumulate rewards\n",
    "        rewards_per_episode.append(total_reward)  # Append total reward for this episode\n",
    "\n",
    "    # Plot the rewards\n",
    "    plt.plot(range(1, episodes + 1), rewards_per_episode, marker='o')\n",
    "    plt.xlabel('Episode')\n",
    "    plt.ylabel('Total Reward')\n",
    "    plt.title('Improvement in Total Reward over Episodes')\n",
    "    plt.grid(True)\n",
    "    plt.show()\n",
    "\n",
    "if __name__ == \"__main__\":\n",
    "\n",
    "    print(\"Connecting to SUMO server...\")\n",
    "    traci_connection_naive = traci.connect(port=65533)\n",
    "    print(\"Connected to SUMO server\")\n",
    "\n",
    "    duration_per_phase = {\n",
    "        'green_a': 42,\n",
    "        'yellow_a': 2,\n",
    "        'green_b': 42,\n",
    "        'yellow_b': 2,\n",
    "    }\n",
    "\n",
    "    # Load the trained model\n",
    "    naive_solution(env=env_fixed_policy, episodes=1, duration_per_phase=duration_per_phase, save_path='Outputs/single-intersection/naive_episode')\n",
    "    traci.close()"
   ],
   "metadata": {
    "collapsed": false
   },
   "id": "d42e3d8b194fa231",
   "execution_count": null
  },
  {
   "cell_type": "markdown",
   "id": "b3c8c50cd03c5481",
   "metadata": {
    "collapsed": false,
    "jp-MarkdownHeadingCollapsed": true
   },
   "source": [
    "# Create a Video from the Captured Images"
   ]
  },
  {
   "cell_type": "code",
   "execution_count": null,
   "id": "6c0e6619e85ecfe6",
   "metadata": {
    "collapsed": false
   },
   "outputs": [],
   "source": [
    "def create_video(output_path, title):\n",
    "    images = []\n",
    "    for file_name in sorted(os.listdir(output_path)):\n",
    "        if file_name.endswith(\".png\"):\n",
    "            file_path = os.path.join(output_path, file_name)\n",
    "            images.append(imageio.imread(file_path))\n",
    "    video_path = f'{title}.mp4'\n",
    "    imageio.mimsave(video_path, images, fps=10)\n",
    "    return Video(video_path)\n",
    "\n",
    "\n",
    "create_video(\"outputs/single-intersection/dqn_images\", \"DQN Agent Solution\")\n"
   ]
  },
  {
   "cell_type": "markdown",
   "id": "9b5b15b904a04a36",
   "metadata": {
    "collapsed": false,
    "jp-MarkdownHeadingCollapsed": true
   },
   "source": [
    "# Visualizing and Analyzing the Results"
   ]
  },
  {
   "cell_type": "markdown",
   "id": "c07ccd9c919dfb35",
   "metadata": {
    "collapsed": false,
    "jp-MarkdownHeadingCollapsed": true
   },
   "source": [
    "## Waiting time per episode"
   ]
  },
  {
   "cell_type": "code",
   "execution_count": null,
   "id": "78861701e9e79222",
   "metadata": {
    "collapsed": false
   },
   "outputs": [],
   "source": [
    "\n",
    "def plot_metrics(data, title, ax):\n",
    "    ax.plot(data['step'], data['system_mean_waiting_time'], label='System Mean Waiting Time')\n",
    "    ax.set_xlabel('Step Time')\n",
    "    ax.set_ylabel('System Mean Waiting Time')\n",
    "    ax.set_title(title)\n",
    "    ax.legend()\n",
    "\n",
    "def visualize_results():\n",
    "    episodes = range(5, 85, 5)\n",
    "    fig, axs = plt.subplots(len(episodes)//2, 2, figsize=(15, 20))\n",
    "    axs = axs.flatten()\n",
    "\n",
    "    for i, episode in enumerate(episodes):\n",
    "        file_path = f\"Outputs/single-intersection/dqn_20240612_164825.csv_conn1_ep{episode}.csv\"\n",
    "        title = f\"DQN Agent Solution - Episode {episode}\"\n",
    "        \n",
    "        try:\n",
    "            data = pd.read_csv(file_path)\n",
    "            if 'step' not in data.columns or 'system_mean_waiting_time' not in data.columns:\n",
    "                raise KeyError(\"CSV file does not contain required columns: 'step' and 'system_mean_waiting_time'\")\n",
    "            \n",
    "            plot_metrics(data, title, axs[i])\n",
    "        \n",
    "        except FileNotFoundError:\n",
    "            print(f\"File not found: {file_path}\")\n",
    "        except KeyError as e:\n",
    "            print(e)\n",
    "\n",
    "    plt.tight_layout()\n",
    "    plt.show()\n",
    "\n",
    "visualize_results()\n",
    "    "
   ]
  },
  {
   "cell_type": "code",
   "outputs": [
    {
     "data": {
      "text/plain": "<Figure size 640x480 with 1 Axes>",
      "image/png": "[encoded data removed]"
     },
     "metadata": {},
     "output_type": "display_data"
    },
    {
     "name": "stdout",
     "output_type": "stream",
     "text": [
      "Average Waiting Time: 24.59 seconds\n"
     ]
    }
   ],
   "source": [
    "import xml.etree.ElementTree as ET\n",
    "import matplotlib.pyplot as plt\n",
    "\n",
    "def plot_waiting_time(xml_file_path):\n",
    "    tree = ET.parse(xml_file_path)\n",
    "    root = tree.getroot()\n",
    "\n",
    "    depart_times = []\n",
    "    waiting_times = []\n",
    "\n",
    "    for tripinfo in root.findall('tripinfo'):\n",
    "        depart_time = float(tripinfo.get('depart'))\n",
    "        waiting_time = float(tripinfo.get('waitingTime'))\n",
    "\n",
    "        depart_times.append(depart_time)\n",
    "        waiting_times.append(waiting_time)\n",
    "\n",
    "    plt.plot(depart_times, waiting_times)\n",
    "    plt.xlabel('Departure Time')\n",
    "    plt.ylabel('Waiting Time')\n",
    "    plt.title('Waiting Time for Vehicles')\n",
    "    plt.show()\n",
    "    average_waiting_time = sum(waiting_times) / len(waiting_times)\n",
    "    print(f\"Average Waiting Time: {average_waiting_time:.2f} seconds\")\n",
    "# Example usage\n",
    "xml_file_path = '/Users/md/Desktop/sumo-rl/nets/single-intersection/trip_info.xml'\n",
    "plot_waiting_time(xml_file_path)\n"
   ],
   "metadata": {
    "collapsed": false,
    "ExecuteTime": {
     "end_time": "2024-06-13T10:36:26.939901Z",
     "start_time": "2024-06-13T10:36:26.844828Z"
    }
   },
   "id": "cb934e3485fd4f98",
   "execution_count": 75
  },
  {
   "cell_type": "markdown",
   "id": "b46a0799682f5613",
   "metadata": {
    "collapsed": false
   },
   "source": [
    "## Calculate the Overall Average Waiting Time"
   ]
  },
  {
   "cell_type": "markdown",
   "id": "68d2aeb60f896a1",
   "metadata": {
    "collapsed": false
   },
   "source": [
    "### DQN Agent Solution and Naive Solution"
   ]
  },
  {
   "cell_type": "code",
   "execution_count": null,
   "id": "96b202e56f741ffc",
   "metadata": {
    "collapsed": false
   },
   "outputs": [],
   "source": [
    "import pandas as pd\n",
    "import matplotlib.pyplot as plt\n",
    "\n",
    "def plot_average_waiting_time(file_path, episodes, title):\n",
    "    mean_average_waiting_time = 0\n",
    "    list_of_average = []\n",
    "\n",
    "    for episode in episodes:\n",
    "        episode_file_path = f'{file_path}_ep{episode}.csv'\n",
    "        data = pd.read_csv(episode_file_path)\n",
    "        average_waiting_time = data['system_mean_waiting_time'].mean()\n",
    "        mean_average_waiting_time += average_waiting_time\n",
    "        list_of_average.append(average_waiting_time)\n",
    "\n",
    "    overall_mean_average_waiting_time = mean_average_waiting_time / len(episodes)\n",
    "    print(f'The overall average waiting time is: {overall_mean_average_waiting_time}\\n')\n",
    "\n",
    "    plt.figure(figsize=(12, 8))\n",
    "    plt.plot(episodes, list_of_average, marker='o', linestyle='-', color='r', label='Avg Waiting Time')\n",
    "    plt.xlabel('Episode')\n",
    "    plt.ylabel('Average Waiting Time')\n",
    "    plt.title(f'Improvement in System Mean Waiting Time over Episodes - {title}')\n",
    "    plt.grid(True, linestyle='--', alpha=0.7)\n",
    "    plt.legend()\n",
    "    plt.show()\n",
    "\n",
    "agent_file_path = 'Outputs/single-intersection/dqn_20240612_164825.csv_conn1'\n",
    "naive_file_path = 'Outputs/single-intersection/dqn_20240612_164825.csv_conn1'\n",
    "episods_learning_phase = range(5, 85, 5) # Change the range as needed\n",
    "episods_prediction_phase = range(1, 5) # Change the range as needed\n",
    "episods_naive = range(1, 5) # Change the range as needed\n",
    "\n",
    "plot_average_waiting_time(agent_file_path, episods_learning_phase, 'DQN Agent Learning')\n",
    "plot_average_waiting_time(naive_file_path, episods_prediction_phase, 'DQN Agent Prediction')\n",
    "plot_average_waiting_time(agent_file_path, episods_naive, 'Naive Fixed-Time Solution')\n"
   ]
  },
  {
   "cell_type": "markdown",
   "id": "21c06b4967f501a4",
   "metadata": {
    "collapsed": false
   },
   "source": [
    "# The END"
   ]
  },
  {
   "cell_type": "code",
   "outputs": [
    {
     "name": "stdout",
     "output_type": "stream",
     "text": [
      "CSV file saved as: /Users/md/Desktop/sumo-rl/nets/single-intersection/trip_info.csv\n"
     ]
    }
   ],
   "source": [
    "# write function to convert xml to csv\n",
    "import xml.etree.ElementTree as ET\n",
    "import pandas as pd\n",
    "\n",
    "def xml_to_csv(xml_file_path, csv_file_path):\n",
    "    tree = ET.parse(xml_file_path)\n",
    "    root = tree.getroot()\n",
    "\n",
    "    data = {\n",
    "        'id': [],\n",
    "        'depart': [],\n",
    "        'arrival': [],\n",
    "        'waitingTime': []\n",
    "    }\n",
    "\n",
    "    for tripinfo in root.findall('tripinfo'):\n",
    "        data['id'].append(tripinfo.get('id'))\n",
    "        data['depart'].append(float(tripinfo.get('depart')))\n",
    "        data['arrival'].append(float(tripinfo.get('arrival')))\n",
    "        data['waitingTime'].append(float(tripinfo.get('waitingTime')))\n",
    "\n",
    "    df = pd.DataFrame(data)\n",
    "    df.to_csv(csv_file_path, index=False)\n",
    "    print(f\"CSV file saved as: {csv_file_path}\")\n",
    "    \n",
    "file_to_convert = '/Users/md/Desktop/sumo-rl/nets/single-intersection/trip_info.xml'\n",
    "csv_file_path = '/Users/md/Desktop/sumo-rl/nets/single-intersection/trip_info.csv'\n",
    "xml_to_csv(file_to_convert, csv_file_path)"
   ],
   "metadata": {
    "collapsed": false,
    "ExecuteTime": {
     "end_time": "2024-06-13T09:59:29.156866Z",
     "start_time": "2024-06-13T09:59:29.115477Z"
    }
   },
   "id": "ebd65664a7463056",
   "execution_count": 56
  },
  {
   "cell_type": "code",
   "outputs": [],
   "source": [],
   "metadata": {
    "collapsed": false
   },
   "id": "efbc11248644bb1f"
  }
 ],
 "metadata": {
  "kernelspec": {
   "display_name": "Python 3 (ipykernel)",
   "language": "python",
   "name": "python3"
  },
  "language_info": {
   "codemirror_mode": {
    "name": "ipython",
    "version": 3
   },
   "file_extension": ".py",
   "mimetype": "text/x-python",
   "name": "python",
   "nbconvert_exporter": "python",
   "pygments_lexer": "ipython3",
   "version": "3.11.9"
  }
 },
 "nbformat": 4,
 "nbformat_minor": 5
}
